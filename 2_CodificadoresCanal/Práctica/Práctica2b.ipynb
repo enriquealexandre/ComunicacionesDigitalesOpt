{
 "cells": [
  {
   "cell_type": "markdown",
   "metadata": {},
   "source": [
    "# COMUNICACIONES DIGITALES\n",
    "> Máster en Ingeniería de Telecomunicación<br>\n",
    "> Curso 2021/22"
   ]
  },
  {
   "cell_type": "markdown",
   "metadata": {},
   "source": [
    "## Práctica 2b - Codificación de canal (II) \n",
    "### Códigos de paridad\n",
    "\n",
    "En esta práctica vamos a estudiar el comportamiento de los códigos de paridad. \n",
    "\n",
    "Este tipo de códigos toman bloques de *n-1* bits y les añaden un bit extra de paridad para formar la palabra código final de *n* bits. Este bit de paridad se elige de forma que el número de *1*s totales en la palabra código sea siempre par. \n",
    "Los códigos de paridad permiten la detección de errores pero no la corrección. Por tanto, lo único que vamos a poder hacer en recepción es etiquetar todas aquellas palabras código en las que se haya detectado algún error y solicitar al transmisor que las vuelva a enviar. \n",
    " "
   ]
  },
  {
   "cell_type": "markdown",
   "metadata": {},
   "source": [
    "### 0 - PARÁMETROS DE CONFIGURACIÓN"
   ]
  },
  {
   "cell_type": "code",
   "execution_count": 1,
   "metadata": {},
   "outputs": [],
   "source": [
    "fichero_entrada = \"entradaBreve.txt\"     #Fichero de entrada al sistema\n",
    "n = 3                               #Número de bits por palabra código (n-1 de información, y 1 de paridad)\n",
    "N0 = 0.05                           #Densidad espectral de potencia del ruido"
   ]
  },
  {
   "cell_type": "markdown",
   "metadata": {},
   "source": [
    "### 1 - GENERACIÓN DEL MENSAJE\n",
    "Generamos un mensaje que será la entrada a nuestro sistema"
   ]
  },
  {
   "cell_type": "code",
   "execution_count": 2,
   "metadata": {},
   "outputs": [
    {
     "name": "stdout",
     "output_type": "stream",
     "text": [
      "IMPRIMIR EL TAMAÑO DEL ARCHIVO DE ENTRADA EN BYTES\n"
     ]
    }
   ],
   "source": [
    "fichero = open(fichero_entrada, \"r\")\n",
    "mensaje = fichero.read()\n",
    "bits_fuente = ''.join(format(ord(i), '08b') for i in mensaje)\n",
    "print(\"IMPRIMIR EL TAMAÑO DEL ARCHIVO DE ENTRADA EN BYTES\")"
   ]
  },
  {
   "cell_type": "markdown",
   "metadata": {},
   "source": [
    "### 2 - CÓDIGO DE PARIDAD\n"
   ]
  },
  {
   "cell_type": "code",
   "execution_count": 3,
   "metadata": {},
   "outputs": [
    {
     "name": "stdout",
     "output_type": "stream",
     "text": [
      "IMPRIMIR EL TAMAÑO DEL ARCHIVO CODIFICADO EN BYTES\n"
     ]
    }
   ],
   "source": [
    "from CodCanal import paridad_cod\n",
    "bits_canal = paridad_cod(bits_fuente,n)\n",
    "print(\"IMPRIMIR EL TAMAÑO DEL ARCHIVO CODIFICADO EN BYTES\")"
   ]
  },
  {
   "cell_type": "markdown",
   "metadata": {},
   "source": [
    "### 3 - TRANSMISIÓN AWGN\n",
    " "
   ]
  },
  {
   "cell_type": "code",
   "execution_count": 4,
   "metadata": {},
   "outputs": [],
   "source": [
    "from Canal import canalAWGN   \n",
    "senal_tx = [int(i) for i in bits_canal] #Hago una modulación sencilla: '0' -> 0 y '1' -> +1\n",
    "sigma = pow(N0/2, 0.5)\n",
    "senal_rx = canalAWGN(senal_tx, sigma)\n",
    "bits_rx = \"\".join([\"0\" if i<0.5 else \"1\" for i in senal_rx])    #Decisor: <0.5->'0', >=0.5->'1'"
   ]
  },
  {
   "cell_type": "markdown",
   "metadata": {},
   "source": [
    "### 4 - DECODIFICACIÓN \n",
    "Realizo la decodificación. El código de paridad no permite la corrección de errores, sino sólo la detección. "
   ]
  },
  {
   "cell_type": "code",
   "execution_count": 5,
   "metadata": {},
   "outputs": [
    {
     "name": "stdout",
     "output_type": "stream",
     "text": [
      "Número de palabras recibidas con errores: 15\n",
      "Número de palabras detectadas con errores: 15\n"
     ]
    }
   ],
   "source": [
    "from CodCanal import paridad_dec, erroresParidad\n",
    "erroresDetectados, bits_rx_canal = paridad_dec(bits_rx,n)\n",
    "erroresReales = erroresParidad(bits_canal, bits_rx, n)\n",
    "print(f\"Número de palabras recibidas con errores: {erroresReales}\")\n",
    "print(f\"Número de palabras detectadas con errores: {erroresDetectados}\")"
   ]
  },
  {
   "cell_type": "markdown",
   "metadata": {},
   "source": [
    "### 5 - SALIDA A ARCHIVO\n",
    "Voy cogiendo los bits de 8 en 8 y los paso a carácter"
   ]
  },
  {
   "cell_type": "code",
   "execution_count": 6,
   "metadata": {},
   "outputs": [
    {
     "name": "stdout",
     "output_type": "stream",
     "text": [
      "En un lugar de la Mancha, de cuyo nombre no quiero acordarme, no ha mucho tiempo que vivía un hidalgo de los de lanza en astillero, adarga antigua, rocín!flaco y galgo corredor. Una olla de algo más vaca que carnero, salpicón las más noches, duelos y quebrantos los sábados, lentejas los viernes, algún palomino de añ!didura los domingos, consumían las tres partew de su hacienda. El resôo della concluían sayo de velarte, calzas de velludo para las fiestas con sus pantuflos de lo mismo, los días de entre semana se honraba con su vellori de lo más fino. Tenía en su casa una ama que pasaba de los cuarenta, y una sobrina que no llegaba a los v%inte, y un mozo de campo y plaza, que así ensillaba el rocín como tomaba la podadera. Frisaba la edad de nuestro hidalgo con los cincuenta años, era de complexión recia, seco de carnes, enjuto de rostro; gran madrugador y amigo de la caza. Quieren decir que tenía el sobrenombre de Quhjada o Quesada (que en esto hay alguna diferencia en los autores que deste caso escriben), aunque por conjeturas verosímiles se deja entender que se llama Quijana; perm esto importa poco a nuestro guento; basta que en la narración dél no se salga un punto de la verdad.\n"
     ]
    }
   ],
   "source": [
    "salida = \"\"\n",
    "for i in range(0,len(bits_rx_canal),8):\n",
    "    salida += chr(int(bits_rx_canal[i:i+8],2))\n",
    "print(salida)"
   ]
  }
 ],
 "metadata": {
  "interpreter": {
   "hash": "5e18f1f7e2093e2c4573a3c48282598290b4b08e415ac8eb5ac1b29c9e10dee7"
  },
  "kernelspec": {
   "display_name": "Python 3 (ipykernel)",
   "language": "python",
   "name": "python3"
  },
  "language_info": {
   "codemirror_mode": {
    "name": "ipython",
    "version": 3
   },
   "file_extension": ".py",
   "mimetype": "text/x-python",
   "name": "python",
   "nbconvert_exporter": "python",
   "pygments_lexer": "ipython3",
   "version": "3.8.12"
  }
 },
 "nbformat": 4,
 "nbformat_minor": 2
}
