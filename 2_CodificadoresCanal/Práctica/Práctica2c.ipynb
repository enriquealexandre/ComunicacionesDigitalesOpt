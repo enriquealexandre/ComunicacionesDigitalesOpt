{
 "cells": [
  {
   "cell_type": "markdown",
   "metadata": {},
   "source": [
    "# COMUNICACIONES DIGITALES\n",
    "> Máster en Ingeniería de Telecomunicación<br>\n",
    "> Curso 2021/22"
   ]
  },
  {
   "cell_type": "markdown",
   "metadata": {},
   "source": [
    "## Práctica 2c - Codificación de canal (III)\n",
    "### Códigos Hamming\n",
    "\n",
    "En esta práctica veremos el funcionamiento de los códigos Hamming.\n",
    "\n",
    "Este tipo de códigos constan de *q* bits de control, con una palabra código con una longitud total de $ 2^q -1 $ bits. \n",
    " "
   ]
  },
  {
   "cell_type": "markdown",
   "metadata": {},
   "source": [
    "### 0 - PARÁMETROS DE CONFIGURACIÓN"
   ]
  },
  {
   "cell_type": "code",
   "execution_count": 1,
   "metadata": {},
   "outputs": [],
   "source": [
    "fichero_entrada = \"entradaBreve.txt\"     #Fichero de entrada al sistema\n",
    "q = 3                               #Número de bits de control\n",
    "N0 = 0.05                           #Densidad espectral de potencia del ruido"
   ]
  },
  {
   "cell_type": "markdown",
   "metadata": {},
   "source": [
    "### 1 - GENERACIÓN DEL MENSAJE\n",
    "Generamos un mensaje que será la entrada a nuestro sistema"
   ]
  },
  {
   "cell_type": "code",
   "execution_count": 2,
   "metadata": {},
   "outputs": [
    {
     "name": "stdout",
     "output_type": "stream",
     "text": [
      "IMPRIMIR EL TAMAÑO DEL ARCHIVO DE ENTRADA EN BYTES\n"
     ]
    }
   ],
   "source": [
    "fichero = open(fichero_entrada, \"r\")\n",
    "mensaje = fichero.read()\n",
    "bits_fuente = ''.join(format(ord(i), '08b') for i in mensaje)\n",
    "print(\"IMPRIMIR EL TAMAÑO DEL ARCHIVO DE ENTRADA EN BYTES\")"
   ]
  },
  {
   "cell_type": "markdown",
   "metadata": {},
   "source": [
    "### 2 - CÓDIGO HAMMING\n"
   ]
  },
  {
   "cell_type": "code",
   "execution_count": 3,
   "metadata": {},
   "outputs": [
    {
     "name": "stdout",
     "output_type": "stream",
     "text": [
      "IMPRIMIR EL TAMAÑO DEL ARCHIVO CODIFICADO EN BYTES\n"
     ]
    }
   ],
   "source": [
    "from CodCanal import hamming_cod\n",
    "bits_canal = hamming_cod(bits_fuente, q)\n",
    "print(\"IMPRIMIR EL TAMAÑO DEL ARCHIVO CODIFICADO EN BYTES\")"
   ]
  },
  {
   "cell_type": "markdown",
   "metadata": {},
   "source": [
    "### 3 - TRANSMISIÓN AWGN\n",
    " "
   ]
  },
  {
   "cell_type": "code",
   "execution_count": 4,
   "metadata": {},
   "outputs": [
    {
     "name": "stdout",
     "output_type": "stream",
     "text": [
      "¡OJO!  HAY QUE IMPLEMENTAR LA FUNCION numErrores\n",
      "Número de bits erroneos recibidos: 0\n"
     ]
    }
   ],
   "source": [
    "from Canal import canalAWGN\n",
    "from CodCanal import numErrores\n",
    "senal_tx = [int(i) for i in bits_canal] #Hago una modulación sencilla: '0' -> 0 y '1' -> +1\n",
    "sigma = pow(N0/2, 0.5)\n",
    "senal_rx = canalAWGN(senal_tx, sigma)\n",
    "bits_rx = \"\".join([\"0\" if i<0.5 else \"1\" for i in senal_rx])    #Decisor: <0.5->'0', >=0.5->'1'\n",
    "errores = numErrores(bits_canal, bits_rx)\n",
    "print(f\"Número de bits erroneos recibidos: {errores}\")"
   ]
  },
  {
   "cell_type": "markdown",
   "metadata": {},
   "source": [
    "### 4 - DECODIFICACIÓN "
   ]
  },
  {
   "cell_type": "code",
   "execution_count": 5,
   "metadata": {},
   "outputs": [
    {
     "name": "stdout",
     "output_type": "stream",
     "text": [
      "¡OJO!  HAY QUE IMPLEMENTAR LA FUNCION numErrores\n",
      "Número de bits erróneos tras la corrección de errores: 0\n"
     ]
    }
   ],
   "source": [
    "from CodCanal import hamming_dec, numErrores\n",
    "bits_rx_canal = hamming_dec(bits_rx, q)\n",
    "errores = numErrores(bits_fuente, bits_rx_canal)\n",
    "print(f\"Número de bits erróneos tras la corrección de errores: {errores}\")"
   ]
  },
  {
   "cell_type": "markdown",
   "metadata": {},
   "source": [
    "### 5 - SALIDA A ARCHIVO"
   ]
  },
  {
   "cell_type": "code",
   "execution_count": 6,
   "metadata": {},
   "outputs": [
    {
     "name": "stdout",
     "output_type": "stream",
     "text": [
      "En un lugar de la Mancha, de cuyo nombre no quiero acordarme, no ha mucho tiempo que vivía un hidalgo de los de lanza en astillero, adarga antigua, rocín flaco y galgo corredor. Una olla de algo más vaca que carnero, salpicón las más noches, duelos y quebrantos los sábados, lentejas los viernes, algún palomino de añadidura los domingos, consumían las tres partes de su hacienda. El resto della concluían sayo de velarte, calzas de velludo para las fiestas con sus pantuflos de lo mismo, los días de entre semana se honraba con su vellori de lo más fino. Tenía en su casa una ama que pasaba de los cuarenta, y una sobrina que no llegaba a los veinte, y un mozo de campo y plaza, que así ensillaba el rocín como tomaba la podadera. Frisaba la edad de nuestro hidalgo con los cincuenta años, era de complexión recia, seco de carnes, enjuto de rostro; gran madrugador y amigo de la caza. Quieren decir que tenía el sobrenombre de Quijada o Quesada (que en esto hay alguna diferencia en los autores que deste caso escriben), aunque por conjeturas verosímiles se deja entender que se llama Quijana; pero esto importa poco a nuestro cuento; basta que en la narración dél no se salga un punto de la verdad.\n"
     ]
    }
   ],
   "source": [
    "salida = \"\"\n",
    "#Voy cogiendo los bits de 8 en 8 y los paso a carácter\n",
    "for i in range(0,len(bits_rx_canal),8):\n",
    "    salida += chr(int(bits_rx_canal[i:i+8],2))\n",
    "print(salida)"
   ]
  }
 ],
 "metadata": {
  "interpreter": {
   "hash": "5e18f1f7e2093e2c4573a3c48282598290b4b08e415ac8eb5ac1b29c9e10dee7"
  },
  "kernelspec": {
   "display_name": "Python 3.8.10 64-bit ('base': conda)",
   "name": "python3"
  },
  "language_info": {
   "codemirror_mode": {
    "name": "ipython",
    "version": 3
   },
   "file_extension": ".py",
   "mimetype": "text/x-python",
   "name": "python",
   "nbconvert_exporter": "python",
   "pygments_lexer": "ipython3",
   "version": "3.8.12"
  },
  "orig_nbformat": 4
 },
 "nbformat": 4,
 "nbformat_minor": 2
}
