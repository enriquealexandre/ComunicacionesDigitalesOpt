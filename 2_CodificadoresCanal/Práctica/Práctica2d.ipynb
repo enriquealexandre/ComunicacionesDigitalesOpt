{
 "cells": [
  {
   "cell_type": "markdown",
   "metadata": {},
   "source": [
    "# COMUNICACIONES DIGITALES\n",
    "> Máster en Ingeniería de Telecomunicación<br>\n",
    "> Curso 2021/22"
   ]
  },
  {
   "cell_type": "markdown",
   "metadata": {},
   "source": [
    "## Práctica 2d - Sistema completo de comunicaciones\n",
    "\n",
    "En esta práctica veremos un ejemplo de un sistema completo de comunicaciones, con todos los bloques vistos en clase: codificador de fuente, codificador de canal y modulador.\n",
    "Se pueden configurar distintos aspectos de su funcionamiento:\n",
    " - Ficheros de entrada: Pueden ser texto, imágenes (.bmp) o audio (.wav).\n",
    " - Codificador fuente: Admite codificación Huffman, LZW o ninguna.\n",
    " - Codificador de canal: Admite códigos de repetición, de paridad, Hamming o niguno.\n",
    " - Modulación: Admite modulaciones 2-ASK, 4-ASK y QPSK.\n",
    " - Canal: Se puede fijar la densidad espectral de potencia del ruido y el ancho de banda del canal\n",
    " - Se pueden especificar las formas de los filtros de transmisión y recepción.\n",
    " "
   ]
  },
  {
   "cell_type": "markdown",
   "metadata": {},
   "source": [
    "### 0 - PARÁMETROS DE CONFIGURACIÓN"
   ]
  },
  {
   "cell_type": "code",
   "execution_count": 11,
   "metadata": {},
   "outputs": [],
   "source": [
    "import os                           # Para manejar nombres de archivos\n",
    "import numpy as np                  # Librería matemática\n",
    "import matplotlib.pyplot as plt     # Para procesar el mapa de colores de la imagen\n",
    "import matplotlib.image as mpimg    # Para leer y grabar imágenes\n",
    "import scipy.io.wavfile as wav      # Para leer y escribir archivos .wav\n",
    "\n",
    "fichero_entrada = \"entrada.txt\"\n",
    "fichero_salida = \"salida\"\n",
    "codigo_fuente = \"huffman\"       # \"none, \"huffman\" o \"lzw\" (lzw sólo si es texto)\n",
    "codigo_canal = \"repeticion\"     # \"none\", \"repeticion\", \"paridad\" o \"hamming\"\n",
    "modulacion = \"2-ASK\"            # \"2-ASK\", \"4-ASK\", \"QPSK\"\n",
    "\n",
    "n = 4       # Tamaño total de la palabra código para la codificación de paridad\n",
    "k = 3       # Número de repeticiones para el código de repetición\n",
    "q = 3       # Número de bits de control para Hamming\n",
    "N0 = 0.3    # Densidad espectral de potencia de ruido\n",
    "\n",
    "BW = 1e3   # Ancho de banda del canal en Hz\n",
    "\n",
    "ht = [0.5, 0.5, 0.5, 0.5, 0, 0, 0, 0]   #Filtro transmisor 1\n",
    "gt = [0, 0, 0, 0, 0.5, 0.5, 0.5, 0.5]   #Filtro transmisor 2\n",
    "hr = [0, 0, 0, 0, 0.5, 0.5, 0.5, 0.5]   #Filtro receptor 1\n",
    "gr = [0.5, 0.5, 0.5, 0.5, 0, 0, 0, 0]   #Filtro receptor 2"
   ]
  },
  {
   "cell_type": "markdown",
   "metadata": {},
   "source": [
    "### 1 - GENERACIÓN DEL MENSAJE\n",
    "Generamos un mensaje que será la entrada a nuestro sistema"
   ]
  },
  {
   "cell_type": "code",
   "execution_count": 12,
   "metadata": {},
   "outputs": [
    {
     "name": "stdout",
     "output_type": "stream",
     "text": [
      "IMPRIMIR EL TAMAÑO DEL ARCHIVO DE ENTRADA EN BYTES\n"
     ]
    }
   ],
   "source": [
    "#Leo el mensaje a transmitir\n",
    "nombre, extension = os.path.splitext(fichero_entrada)\n",
    "if extension == \".txt\":\n",
    "    fichero = open(fichero_entrada, \"r\")\n",
    "    mensaje = fichero.read()\n",
    "    bitsporpalabra = 8\n",
    "elif extension == \".wav\":\n",
    "    fs, mensaje = wav.read(fichero_entrada)\n",
    "    bitsporpalabra = 16\n",
    "elif extension == \".bmp\":\n",
    "    mensaje = mpimg.imread(fichero_entrada).astype(int)-128\n",
    "    tamanoX, tamanoY = mensaje.shape\n",
    "    mensaje = np.reshape(mensaje,-1)\n",
    "    bitsporpalabra = 8\n",
    "else:\n",
    "    print(\"No conozco este tipo de archivo\")\n",
    "    quit()\n",
    "\n",
    "print(\"IMPRIMIR EL TAMAÑO DEL ARCHIVO DE ENTRADA EN BYTES\")\n"
   ]
  },
  {
   "cell_type": "markdown",
   "metadata": {},
   "source": [
    "### 2 - CODIFICACIÓN FUENTE\n"
   ]
  },
  {
   "cell_type": "code",
   "execution_count": 13,
   "metadata": {},
   "outputs": [
    {
     "name": "stdout",
     "output_type": "stream",
     "text": [
      "Codificación fuente: huffman\n",
      "IMPRIMIR EL TAMAÑO DEL ARCHIVO TRAS LA CODIFICACIÓN FUENTE EN BYTES\n"
     ]
    }
   ],
   "source": [
    "print(f\"Codificación fuente: {codigo_fuente}\")\n",
    "if codigo_fuente == \"huffman\":\n",
    "    from CodFuente import gen_huffman_dic, huffman_cod\n",
    "    probabilidades, codigos = gen_huffman_dic(mensaje)\n",
    "    bits_fuente = huffman_cod(mensaje, codigos)\n",
    "elif codigo_fuente == \"lzw\":\n",
    "    from CodFuente import gen_lzw_dic, lzw_cod\n",
    "    diccionario_lzw = gen_lzw_dic(mensaje)\n",
    "    bits_fuente, bitspormuestralzw, codigo_lzw = lzw_cod(mensaje, diccionario_lzw)\n",
    "else:   #En cualquier otro caso no utilizo codificación fuente. \n",
    "    if extension == \".txt\":\n",
    "        bits_fuente = ''.join(format(ord(i), '08b') for i in mensaje)\n",
    "    elif extension == \".wav\":\n",
    "        bits_fuente = ''.join([bin(i)[2:].zfill(bitsporpalabra) if i >=0 else bin(pow(2,bitsporpalabra)+i)[2:].zfill(bitsporpalabra) for i in mensaje]) \n",
    "\n",
    "print(\"IMPRIMIR EL TAMAÑO DEL ARCHIVO TRAS LA CODIFICACIÓN FUENTE EN BYTES\")\n"
   ]
  },
  {
   "cell_type": "markdown",
   "metadata": {},
   "source": [
    "### 3 - CODIFICACIÓN DE CANAL\n",
    " "
   ]
  },
  {
   "cell_type": "code",
   "execution_count": 14,
   "metadata": {},
   "outputs": [
    {
     "name": "stdout",
     "output_type": "stream",
     "text": [
      "Código de canal: repeticion\n",
      "¡OJO!  HAY QUE IMPLEMENTAR LA FUNCION repeticion_cod\n",
      "IMPRIMIR EL TAMAÑO DEL ARCHIVO TRAS LA CODIFICACIÓN DE CANAL EN BYTES\n"
     ]
    }
   ],
   "source": [
    "print(f\"Código de canal: {codigo_canal}\")\n",
    "if codigo_canal == \"repeticion\":\n",
    "    from CodCanal import repeticion_cod\n",
    "    bits_canal = repeticion_cod(bits_fuente,k)\n",
    "elif codigo_canal == \"paridad\":\n",
    "    from CodCanal import paridad_cod\n",
    "    bits_canal = paridad_cod(bits_fuente,n)\n",
    "elif codigo_canal == \"hamming\":\n",
    "    from CodCanal import hamming_cod\n",
    "    bits_canal = hamming_cod(bits_fuente, q)\n",
    "else:   #En cualquier otro caso no utilizo codificación de canal\n",
    "    bits_canal = bits_fuente\n",
    "\n",
    "print(\"IMPRIMIR EL TAMAÑO DEL ARCHIVO TRAS LA CODIFICACIÓN DE CANAL EN BYTES\")\n"
   ]
  },
  {
   "cell_type": "markdown",
   "metadata": {},
   "source": [
    "### 4 - MODULACIÓN"
   ]
  },
  {
   "cell_type": "code",
   "execution_count": 15,
   "metadata": {},
   "outputs": [
    {
     "name": "stdout",
     "output_type": "stream",
     "text": [
      "Modulación: 2-ASK\n",
      "Tiempo necesario para transmitir el mensaje: 90.022s\n"
     ]
    }
   ],
   "source": [
    "print(f\"Modulación: {modulacion}\")\n",
    "if modulacion == \"4-ASK\":\n",
    "    from Moduladores import mod_4ASK\n",
    "    senal_tx = mod_4ASK(bits_canal,ht)\n",
    "    Rb = BW\n",
    "elif modulacion == \"QPSK\":\n",
    "    from Moduladores import mod_QPSK\n",
    "    senal_tx = mod_QPSK(bits_canal, ht, gt)\n",
    "    Rb = BW\n",
    "else:   #Por defecto utilizo 2-ASK\n",
    "    from Moduladores import mod_2ASK\n",
    "    senal_tx = mod_2ASK(bits_canal, ht)\n",
    "    Rb = BW/2\n",
    "\n",
    "tiempo = len(bits_canal)/Rb\n",
    "print(f\"Tiempo necesario para transmitir el mensaje: {tiempo}s\")"
   ]
  },
  {
   "cell_type": "markdown",
   "metadata": {},
   "source": [
    "### 5 - CANAL DE TRANSMISIÓN"
   ]
  },
  {
   "cell_type": "code",
   "execution_count": 16,
   "metadata": {},
   "outputs": [],
   "source": [
    "from Canal import canalAWGN\n",
    "from CodCanal import numErrores\n",
    "sigma = pow(N0/2, 0.5)\n",
    "senal_rx = canalAWGN(senal_tx, sigma)"
   ]
  },
  {
   "cell_type": "markdown",
   "metadata": {},
   "source": [
    "### 6 - DEMODULACIÓN"
   ]
  },
  {
   "cell_type": "code",
   "execution_count": 17,
   "metadata": {},
   "outputs": [
    {
     "name": "stdout",
     "output_type": "stream",
     "text": [
      "¡OJO!  HAY QUE IMPLEMENTAR LA FUNCION numErrores\n",
      "Número de errores durante la transmisión: 0 (pe = 0.0000)\n"
     ]
    }
   ],
   "source": [
    "if modulacion == \"4-ASK\":\n",
    "    from Moduladores import dem_4ASK\n",
    "    bits_rx = dem_4ASK(senal_rx,hr,len(ht))\n",
    "elif modulacion == \"QPSK\":\n",
    "    from Moduladores import dem_QPSK\n",
    "    bits_rx = dem_QPSK(senal_rx, hr, gr, len(ht))\n",
    "else:   #Por defecto considero una 2-ASK\n",
    "    from Moduladores import dem_2ASK\n",
    "    bits_rx = dem_2ASK(senal_rx, hr, len(ht))\n",
    "\n",
    "errores = numErrores(bits_canal, bits_rx)\n",
    "print(f\"Número de errores durante la transmisión: {errores} (pe = {errores/len(bits_rx):.4f})\")"
   ]
  },
  {
   "cell_type": "markdown",
   "metadata": {},
   "source": [
    "### 7 - DECODIFICACIÓN DE CANAL"
   ]
  },
  {
   "cell_type": "code",
   "execution_count": 18,
   "metadata": {},
   "outputs": [
    {
     "name": "stdout",
     "output_type": "stream",
     "text": [
      "¡OJO!  HAY QUE IMPLEMENTAR LA FUNCION repeticion_dec\n",
      "¡OJO!  HAY QUE IMPLEMENTAR LA FUNCION numErrores\n",
      "Número de errores tras la corrección de errores: 0 (pe = 0.0000)\n"
     ]
    }
   ],
   "source": [
    "if codigo_canal == \"repeticion\":\n",
    "    from CodCanal import repeticion_dec\n",
    "    bits_rx_canal = repeticion_dec(bits_rx,k)\n",
    "elif codigo_canal == \"paridad\":\n",
    "    from CodCanal import paridad_dec\n",
    "    errores,bits_rx_canal = paridad_dec(bits_rx,n)\n",
    "elif codigo_canal == \"hamming\":\n",
    "    from CodCanal import hamming_dec\n",
    "    bits_rx_canal = hamming_dec(bits_rx, q)\n",
    "else:\n",
    "    bits_rx_canal = bits_rx\n",
    "\n",
    "errores = numErrores(bits_fuente, bits_rx_canal)\n",
    "print(f\"Número de errores tras la corrección de errores: {errores} (pe = {errores/len(bits_rx_canal):.4f})\")"
   ]
  },
  {
   "cell_type": "markdown",
   "metadata": {},
   "source": [
    "### 8 - DECODIFICACIÓN FUENTE"
   ]
  },
  {
   "cell_type": "code",
   "execution_count": 19,
   "metadata": {},
   "outputs": [],
   "source": [
    "if codigo_fuente == \"huffman\":\n",
    "    from CodFuente import huffman_dec\n",
    "    salida = huffman_dec(bits_rx_canal, codigos)\n",
    "    if fichero_entrada.endswith(\".txt\"):\n",
    "        salida = \"\".join(salida)\n",
    "elif codigo_fuente == \"lzw\":\n",
    "    from CodFuente import lzw_dec\n",
    "    salida = lzw_dec(bits_rx_canal, bitspormuestralzw, diccionario_lzw)\n",
    "else:\n",
    "    if extension == \".txt\":\n",
    "        salida = \"\"\n",
    "        for i in range(0,len(bits_rx_canal),8):\n",
    "            salida += chr(int(bits_rx_canal[i:i+8],2))\n",
    "    elif extension == \".wav\":\n",
    "        salida = []\n",
    "        for i in range(0,len(bits_rx_canal),16):\n",
    "            palabra = bits_rx_canal[i:i+16]\n",
    "            if palabra[0] == '0':\n",
    "                salida.append(int(palabra,2))\n",
    "            else:\n",
    "                aux = ''.join('0' if i=='1' else '1' for i in palabra)\n",
    "                salida.append(-(int(aux,2)+1))"
   ]
  },
  {
   "cell_type": "markdown",
   "metadata": {},
   "source": [
    "### 9 - SALIDA A FICHERO"
   ]
  },
  {
   "cell_type": "code",
   "execution_count": 20,
   "metadata": {},
   "outputs": [],
   "source": [
    "if extension == \".txt\":\n",
    "    f_salida = open(fichero_salida+extension, \"w\")\n",
    "    f_salida.write(salida)\n",
    "elif extension == \".wav\":\n",
    "    salida = np.array(salida, dtype=np.int16)\n",
    "    wav.write(fichero_salida+extension, fs, salida)\n",
    "elif extension == \".bmp\":\n",
    "    salida = np.reshape(salida[0:tamanoX*tamanoY],(tamanoX,tamanoY))\n",
    "    salida += 128\n",
    "    mpimg.imsave(fichero_salida+extension,salida, cmap=plt.get_cmap('gray'))"
   ]
  }
 ],
 "metadata": {
  "interpreter": {
   "hash": "5e18f1f7e2093e2c4573a3c48282598290b4b08e415ac8eb5ac1b29c9e10dee7"
  },
  "kernelspec": {
   "display_name": "Python 3.8.10 64-bit ('base': conda)",
   "name": "python3"
  },
  "language_info": {
   "codemirror_mode": {
    "name": "ipython",
    "version": 3
   },
   "file_extension": ".py",
   "mimetype": "text/x-python",
   "name": "python",
   "nbconvert_exporter": "python",
   "pygments_lexer": "ipython3",
   "version": "3.8.12"
  },
  "orig_nbformat": 4
 },
 "nbformat": 4,
 "nbformat_minor": 2
}
