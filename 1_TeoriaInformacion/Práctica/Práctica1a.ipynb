{
 "cells": [
  {
   "cell_type": "markdown",
   "metadata": {},
   "source": [
    "# COMUNICACIONES DIGITALES\n",
    "> Optativa GIEC y GIT<br>\n",
    "> Curso 2021/22"
   ]
  },
  {
   "cell_type": "markdown",
   "metadata": {},
   "source": [
    "## Práctica 1a - Codificación Huffman\n",
    "\n",
    "En esta práctica vamos a ver algunas ideas relacionadas con la codificación de fuente. \n",
    "\n",
    "En concreto estudiaremos el caso de un codificador Huffman.\n",
    " "
   ]
  },
  {
   "cell_type": "markdown",
   "metadata": {},
   "source": [
    "### 1 - GENERACIÓN DEL MENSAJE\n",
    "Generamos un mensaje que será la entrada a nuestro sistema. Se puede probar, si se quiere, con mensajes más largos o incluso con otros tipos de archivos de entrada."
   ]
  },
  {
   "cell_type": "code",
   "execution_count": 1,
   "metadata": {},
   "outputs": [
    {
     "name": "stdout",
     "output_type": "stream",
     "text": [
      "Mensaje a transmitir: En un lugar de la Mancha, de cuyo nombre no quiero acordarme\n"
     ]
    }
   ],
   "source": [
    "mensaje = \"En un lugar de la Mancha, de cuyo nombre no quiero acordarme\"\n",
    "print(f\"Mensaje a transmitir: {mensaje}\")"
   ]
  },
  {
   "cell_type": "markdown",
   "metadata": {},
   "source": [
    "### 2 - CÁLCULOS PREVIOS\n",
    "Antes de realizar la codificación, calculo el número de bits necesarios para codificar el mensaje tal cual, sin hacer nada, y cuál sería el mínimo teórico según el cálculo de la entropía."
   ]
  },
  {
   "cell_type": "code",
   "execution_count": 2,
   "metadata": {},
   "outputs": [
    {
     "name": "stdout",
     "output_type": "stream",
     "text": [
      "IMPRIMIR EL TAMAÑO DEL ARCHIVO DE ENTRADA EN BYTES\n",
      "IMPRIMIR EL TAMAÑO MÍNIMO TEÓRICO DEL ARCHIVO DE ENTRADA EN BYTES\n"
     ]
    }
   ],
   "source": [
    "print(\"IMPRIMIR EL TAMAÑO DEL ARCHIVO DE ENTRADA EN BYTES\")\n",
    "from CodFuente import entropia\n",
    "H = entropia(mensaje)\n",
    "print(\"IMPRIMIR EL TAMAÑO MÍNIMO TEÓRICO DEL ARCHIVO DE ENTRADA EN BYTES\")"
   ]
  },
  {
   "cell_type": "markdown",
   "metadata": {},
   "source": [
    "### 3 - CODIFICACIÓN HUFFMANN (I)\n",
    "Comenzamos con la codificación Huffmann. \n",
    "En primer lugar calculo el diccionario adaptado al mensaje de entrada, y muestro el resultado. \n",
    " - **CodFuente.gen_huffman_dic**: Genera dos diccionarios para la codificación Huffman: *probabilidades* con pares símbolo/probabilidad y *códigos* con pares símbolo/código binario.\n"
   ]
  },
  {
   "cell_type": "code",
   "execution_count": 3,
   "metadata": {},
   "outputs": [
    {
     "name": "stdout",
     "output_type": "stream",
     "text": [
      "IMPRIMIR EL DICCIONARIO HUFFMAN EN EL FORMATO:\n",
      "   CARÁCTER - PROBABILIDAD - CÓDIGO BINARIO\n"
     ]
    }
   ],
   "source": [
    "from CodFuente import gen_huffman_dic\n",
    "probabilidades, codigos = gen_huffman_dic(mensaje)\n",
    "print(\"IMPRIMIR EL DICCIONARIO HUFFMAN EN EL FORMATO:\")\n",
    "print(\"   CARÁCTER - PROBABILIDAD - CÓDIGO BINARIO\")"
   ]
  },
  {
   "cell_type": "markdown",
   "metadata": {},
   "source": [
    "### 4 - CODIFICACIÓN HUFFMANN (II)\n",
    "Utilizando el diccionario de antes, codifico el mensaje y calculo su tamaño una vez codificado. "
   ]
  },
  {
   "cell_type": "code",
   "execution_count": 4,
   "metadata": {},
   "outputs": [
    {
     "name": "stdout",
     "output_type": "stream",
     "text": [
      "IMPRIMIR EL TAMAÑO DEL ARCHIVO EN BYTES TRAS LA CODIFICACIÓN FUENTE\n"
     ]
    }
   ],
   "source": [
    "from CodFuente import huffman_cod\n",
    "bits = huffman_cod(mensaje, codigos)\n",
    "print(\"IMPRIMIR EL TAMAÑO DEL ARCHIVO EN BYTES TRAS LA CODIFICACIÓN FUENTE\")"
   ]
  },
  {
   "cell_type": "markdown",
   "metadata": {},
   "source": [
    "### 5 - CODIFICACIÓN HUFFMANN (III)\n",
    "Por último, y para comprobar que todo funciona, decodifico el mensaje y compruebo que el resultado coincide con el mensaje original."
   ]
  },
  {
   "cell_type": "code",
   "execution_count": 5,
   "metadata": {},
   "outputs": [
    {
     "name": "stdout",
     "output_type": "stream",
     "text": [
      "En un lugar de la Mancha, de cuyo nombre no quiero acordarme\n"
     ]
    }
   ],
   "source": [
    "from CodFuente import huffman_dec\n",
    "salida = huffman_dec(bits, codigos)\n",
    "print(\"\".join(salida))"
   ]
  }
 ],
 "metadata": {
  "interpreter": {
   "hash": "5e18f1f7e2093e2c4573a3c48282598290b4b08e415ac8eb5ac1b29c9e10dee7"
  },
  "kernelspec": {
   "display_name": "Python 3.8.10 64-bit ('base': conda)",
   "name": "python3"
  },
  "language_info": {
   "codemirror_mode": {
    "name": "ipython",
    "version": 3
   },
   "file_extension": ".py",
   "mimetype": "text/x-python",
   "name": "python",
   "nbconvert_exporter": "python",
   "pygments_lexer": "ipython3",
   "version": "3.8.12"
  },
  "orig_nbformat": 4
 },
 "nbformat": 4,
 "nbformat_minor": 2
}
