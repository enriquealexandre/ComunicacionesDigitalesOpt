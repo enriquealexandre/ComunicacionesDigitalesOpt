{
 "cells": [
  {
   "cell_type": "markdown",
   "metadata": {},
   "source": [
    "# COMUNICACIONES DIGITALES\n",
    "> Optativa GIEC y GIT<br>\n",
    "> Curso 2021/22\n"
   ]
  },
  {
   "cell_type": "markdown",
   "metadata": {},
   "source": [
    "## Práctica 1b - Codificación LZW (Lempel-Ziv-Welch)\n",
    "\n",
    "En esta segunda parte de la práctica vamos a seguir con otro caso de codificador de fuente como es el codificador LZW (Lempel-Ziv-Welch)."
   ]
  },
  {
   "cell_type": "markdown",
   "metadata": {},
   "source": [
    "### 1 - GENERACIÓN DEL MENSAJE Y CÁLCULOS PREVIOS\n",
    "Esta parte es idéntica a la de la primera parte de la práctica (Práctica1a)"
   ]
  },
  {
   "cell_type": "code",
   "execution_count": 1,
   "metadata": {},
   "outputs": [
    {
     "name": "stdout",
     "output_type": "stream",
     "text": [
      "Mensaje a transmitir: En un lugar de la Mancha, de cuyo nombre no quiero acordarme\n",
      "IMPRIMIR EL TAMAÑO DEL ARCHIVO DE ENTRADA EN BYTES\n",
      "IMPRIMIR EL TAMAÑO MÍNIMO TEÓRICO DEL ARCHIVO DE ENTRADA EN BYTES\n"
     ]
    }
   ],
   "source": [
    "mensaje = \"En un lugar de la Mancha, de cuyo nombre no quiero acordarme\"\n",
    "print(f\"Mensaje a transmitir: {mensaje}\")\n",
    "print(\"IMPRIMIR EL TAMAÑO DEL ARCHIVO DE ENTRADA EN BYTES\")\n",
    "print(\"IMPRIMIR EL TAMAÑO MÍNIMO TEÓRICO DEL ARCHIVO DE ENTRADA EN BYTES\")"
   ]
  },
  {
   "cell_type": "markdown",
   "metadata": {},
   "source": [
    "### 2 - CODIFICACIÓN LZW (I)\n",
    "Hacemos lo mismo pero ahora con el codificador LZW"
   ]
  },
  {
   "cell_type": "code",
   "execution_count": 2,
   "metadata": {},
   "outputs": [
    {
     "name": "stdout",
     "output_type": "stream",
     "text": [
      "IMPRIMIR EL DICCIONARIO HUFFMAN EN EL FORMATO:\n",
      "   CARÁCTER - CÓDIGO\n"
     ]
    }
   ],
   "source": [
    "from CodFuente import gen_lzw_dic, lzw_cod\n",
    "diccionario_lzw = gen_lzw_dic(mensaje)\n",
    "bits, bitspormuestralzw, codigo = lzw_cod(mensaje, diccionario_lzw)\n",
    "print(\"IMPRIMIR EL DICCIONARIO HUFFMAN EN EL FORMATO:\")\n",
    "print(\"   CARÁCTER - CÓDIGO\")"
   ]
  },
  {
   "cell_type": "markdown",
   "metadata": {},
   "source": [
    "### 3 - CODIFICACIÓN LZW (II)\n",
    "Saco por pantalla el mensaje codificado, no en binario, sino los códigos correspondientes del diccionario. Calculo también el tamaño del mensaje una vez codificado. "
   ]
  },
  {
   "cell_type": "code",
   "execution_count": 3,
   "metadata": {},
   "outputs": [
    {
     "name": "stdout",
     "output_type": "stream",
     "text": [
      "IMPRIMIR EL MENSAJE CODIFICADO (LA LISTA DE CODIGOS)\n",
      "IMPRIMIR EL TAMAÑO DEL ARCHIVO EN BYTES TRAS LA CODIFICACIÓN FUENTE\n"
     ]
    }
   ],
   "source": [
    "print(\"IMPRIMIR EL MENSAJE CODIFICADO (LA LISTA DE CODIGOS)\")\n",
    "print(\"IMPRIMIR EL TAMAÑO DEL ARCHIVO EN BYTES TRAS LA CODIFICACIÓN FUENTE\")"
   ]
  },
  {
   "cell_type": "markdown",
   "metadata": {},
   "source": [
    "### 4 - CODIFICACIÓN LZW (III)\n",
    "Por último, igual que antes, decodifico y compruebo que todo funciona correctamente. "
   ]
  },
  {
   "cell_type": "code",
   "execution_count": 4,
   "metadata": {},
   "outputs": [
    {
     "name": "stdout",
     "output_type": "stream",
     "text": [
      "En un lugar de la Mancha, de cuyo nombre no quiero acordarme\n"
     ]
    }
   ],
   "source": [
    "from CodFuente import lzw_dec\n",
    "salida = lzw_dec(bits, bitspormuestralzw, diccionario_lzw)\n",
    "print(f\"{salida}\")"
   ]
  }
 ],
 "metadata": {
  "interpreter": {
   "hash": "5e18f1f7e2093e2c4573a3c48282598290b4b08e415ac8eb5ac1b29c9e10dee7"
  },
  "kernelspec": {
   "display_name": "Python 3.8.10 64-bit ('base': conda)",
   "name": "python3"
  },
  "language_info": {
   "codemirror_mode": {
    "name": "ipython",
    "version": 3
   },
   "file_extension": ".py",
   "mimetype": "text/x-python",
   "name": "python",
   "nbconvert_exporter": "python",
   "pygments_lexer": "ipython3",
   "version": "3.8.12"
  },
  "orig_nbformat": 4
 },
 "nbformat": 4,
 "nbformat_minor": 2
}
