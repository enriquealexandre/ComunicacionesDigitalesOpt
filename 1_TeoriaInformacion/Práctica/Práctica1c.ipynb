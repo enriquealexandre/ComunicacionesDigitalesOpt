{
 "cells": [
  {
   "cell_type": "markdown",
   "metadata": {},
   "source": [
    "# COMUNICACIONES DIGITALES\n",
    "> Optativa GIEC y GIT<br>\n",
    "> Curso 2021/22"
   ]
  },
  {
   "cell_type": "markdown",
   "metadata": {},
   "source": [
    "## Práctica 1c - Codificación de audio\n",
    "\n",
    "En esta práctica vamos a ver algunas ideas relacionadas con la codificación de fuente aplicada al caso particular de ficheros de audio.\n",
    "Se verán dos casos distintos:\n",
    " - Codificación en el dominio del tiempo: aunque la codificación de audio nunca se hace en el dominio del tiempo, este ejemplo resulta útil para ver de forma sencilla el efecto de una codificación de fuente en este tipo de archivos.\n",
    "  - Codificación en el dominio de la frecuencia: Este caso se parece más a las aplicaciones reales, y permite ver con algo más de detalle el funcionamiento de un codificador de audio real.\n",
    " "
   ]
  },
  {
   "cell_type": "markdown",
   "metadata": {},
   "source": [
    "### 1 - GENERACIÓN DEL MENSAJE\n",
    "Generamos un mensaje que será la entrada a nuestro sistema. Se puede probar, si se quiere, con mensajes más largos o incluso con otros tipos de archivos de entrada."
   ]
  },
  {
   "cell_type": "code",
   "execution_count": 1,
   "metadata": {},
   "outputs": [],
   "source": [
    "#Librerías necesarias\n",
    "import scipy.io.wavfile as wav  # Para leer y escribir archivos .wav\n",
    "import numpy as np              # Librería matemática\n",
    "import scipy.fftpack            # Para las transformadas del coseno (DCT e IDCT)\n",
    "\n",
    "###############\n",
    "# CONFIGURACIÓN\n",
    "###############\n",
    "fichero_entrada = \"entrada.wav\"\n",
    "fichero_salida_1 = \"salida_tiempo.wav\"\n",
    "fichero_salida_2 = \"salida_frecuencia.wav\"\n",
    "# Escalón de cuantificación para el dominio temporal\n",
    "Q_t = 512\n",
    "# Escalón de cuantificación para el dominio de la frecuencia\n",
    "Q_f = 64\n",
    "# Tamaño de cada trama para la transformada DCT\n",
    "N = 2048\n",
    "\n",
    "###############\n",
    "# PASOS PREVIOS\n",
    "###############\n",
    "fs, mensaje = wav.read(fichero_entrada)\n"
   ]
  },
  {
   "cell_type": "markdown",
   "metadata": {},
   "source": [
    "### 2 - CÁLCULOS PREVIOS\n",
    "Antes de realizar la codificación, calculo el número de bits necesarios para codificar el mensaje tal cual, sin hacer nada, y cuál sería el mínimo teórico según el cálculo de la entropía."
   ]
  },
  {
   "cell_type": "code",
   "execution_count": 2,
   "metadata": {},
   "outputs": [
    {
     "name": "stdout",
     "output_type": "stream",
     "text": [
      "Tamaño del archivo sin codificar: 0.0 KBytes\n",
      "Tamaño mínimo que podríamos conseguir en teoría: 0.0 Kbytes\n"
     ]
    }
   ],
   "source": [
    "KB = 0\n",
    "print(\"Tamaño del archivo sin codificar: %.1f\" % KB, \"KBytes\")\n",
    "\n",
    "KB = 0\n",
    "print(\"Tamaño mínimo que podríamos conseguir en teoría: %.1f\" % KB, \"Kbytes\")\n"
   ]
  },
  {
   "cell_type": "markdown",
   "metadata": {},
   "source": [
    "### 3 - CODIFICACIÓN EN EL DOMINIO DEL TIEMPO\n",
    "Comenzamos con la codificación Huffmann. \n",
    "En primer lugar calculo el diccionario adaptado al mensaje de entrada, y muestro el resultado. \n",
    " - **CodFuente.gen_huffman_dic**: Genera dos diccionarios para la codificación Huffman: *probabilidades* con pares símbolo/probabilidad y *códigos* con pares símbolo/código binario.\n"
   ]
  },
  {
   "cell_type": "code",
   "execution_count": 3,
   "metadata": {},
   "outputs": [
    {
     "name": "stdout",
     "output_type": "stream",
     "text": [
      "¡OJO! HAY QUE IMPLEMENTAR LA FUNCIÓN huffman_cod\n",
      "Tamaño del archivo codificado en el tiempo: 0.0 Kbytes\n"
     ]
    }
   ],
   "source": [
    "##################################################\n",
    "# PROCEDIMIENTO 1\n",
    "# Trabajamos directamente en el dominio del tiempo\n",
    "##################################################\n",
    "# Cuantificación del mensaje\n",
    "x_t = np.round(mensaje/Q_t)\n",
    "# Codificación fuente (Huffman)\n",
    "from CodFuente import gen_huffman_dic, huffman_cod\n",
    "diccionario_huffman, codigos_huffman = gen_huffman_dic(x_t)\n",
    "bits = huffman_cod(x_t, codigos_huffman)\n",
    "\n",
    "KB = 0\n",
    "print(\"Tamaño del archivo codificado en el tiempo: %.1f\" % KB, \"Kbytes\")\n",
    "\n",
    "# Decodificación fuente\n",
    "from CodFuente import huffman_dec\n",
    "bits_r = np.array(huffman_dec(bits, codigos_huffman))\n",
    "# Cuantificación inversa\n",
    "x_r = bits_r*Q_t\n",
    "# Lo convertimos a formato entero 16bits y grabamos el archivo \n",
    "y = x_r.astype(np.int16)\n",
    "wav.write(fichero_salida_1, fs, y)"
   ]
  },
  {
   "cell_type": "markdown",
   "metadata": {},
   "source": [
    "### 4 - CODIFICACIÓN EN EL DOMINIO DE LA FRECUENCIA\n",
    "Utilizando el diccionario de antes, codifico el mensaje y calculo su tamaño una vez codificado. "
   ]
  },
  {
   "cell_type": "code",
   "execution_count": 4,
   "metadata": {},
   "outputs": [
    {
     "name": "stdout",
     "output_type": "stream",
     "text": [
      "¡OJO! HAY QUE IMPLEMENTAR LA FUNCIÓN huffman_cod\n",
      "Tamaño del archivo codificado en frecuencia: 0.0 KBytes\n"
     ]
    }
   ],
   "source": [
    "#######################################\n",
    "# PROCEDIMIENTO 2\n",
    "# Trabajamos en el dominio transformado\n",
    "#######################################\n",
    "# Antes de nada relleno con ceros para que el tamaño sea múltiplo de N\n",
    "mensaje = np.append(mensaje, np.zeros(len(mensaje)%N))\n",
    "\n",
    "# Voy cogiendo tramas de N muestras y calculo la DCT de cada una de ellas\n",
    "x_t = np.array([])\n",
    "for i in range(0,len(mensaje),N):\n",
    "    trama = mensaje[i:i+N]\n",
    "    trama_dct = scipy.fftpack.dct(trama, norm='ortho')    #Transformada DCT\n",
    "    trama_dct = np.round(trama_dct/Q_f)       #Cuantificación\n",
    "    x_t = np.append(x_t, trama_dct)\n",
    "\n",
    "# Codificación fuente (Huffman)\n",
    "from CodFuente import gen_huffman_dic, huffman_cod\n",
    "diccionario_huffman, codigos_huffman = gen_huffman_dic(x_t)\n",
    "bits = huffman_cod(x_t, codigos_huffman)\n",
    "\n",
    "KB = 0\n",
    "print(\"Tamaño del archivo codificado en frecuencia: %.1f\" % KB, \"KBytes\")\n",
    "\n",
    "#Decodificación fuente\n",
    "from CodFuente import huffman_dec\n",
    "bits_r = np.array(huffman_dec(bits, codigos_huffman))\n",
    "\n",
    "#Ahora hacemos la transformada inversa. Voy cogiendo cada trama de N muestras y calculo la IDCT\n",
    "y = np.array([])\n",
    "for i in range(0, len(bits_r), N):\n",
    "    trama = bits_r[i:i+N]\n",
    "    trama = trama*Q_f                       #Cuantificación inversa\n",
    "    trama_idct = scipy.fftpack.idct(trama, norm='ortho')  #Transformada IDCT\n",
    "    y = np.append(y, trama_idct)\n",
    "\n",
    "#Convierto todo a formato entero de 16 bits y grabo el archivo\n",
    "y = y.astype(np.int16)\n",
    "wav.write(fichero_salida_2, fs, y)"
   ]
  }
 ],
 "metadata": {
  "interpreter": {
   "hash": "5e18f1f7e2093e2c4573a3c48282598290b4b08e415ac8eb5ac1b29c9e10dee7"
  },
  "kernelspec": {
   "display_name": "Python 3.8.10 64-bit ('base': conda)",
   "name": "python3"
  },
  "language_info": {
   "codemirror_mode": {
    "name": "ipython",
    "version": 3
   },
   "file_extension": ".py",
   "mimetype": "text/x-python",
   "name": "python",
   "nbconvert_exporter": "python",
   "pygments_lexer": "ipython3",
   "version": "3.8.12"
  },
  "orig_nbformat": 4
 },
 "nbformat": 4,
 "nbformat_minor": 2
}
